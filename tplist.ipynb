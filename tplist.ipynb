{
 "cells": [
  {
   "cell_type": "code",
   "execution_count": 1,
   "id": "039a1f97-a688-44b3-9371-0b17821900d0",
   "metadata": {},
   "outputs": [
    {
     "name": "stdout",
     "output_type": "stream",
     "text": [
      "Résultat = 36\n"
     ]
    }
   ],
   "source": [
    "#exo1\n",
    "liste_exemple = [2, 3, 6]\n",
    "resultat = 1\n",
    "for element in liste_exemple:\n",
    "    resultat *= element\n",
    "print(\"Résultat =\", resultat)\n"
   ]
  },
  {
   "cell_type": "code",
   "execution_count": 2,
   "id": "c29ceb4d-547c-46aa-ada7-f4b7ff5525ad",
   "metadata": {},
   "outputs": [
    {
     "name": "stdout",
     "output_type": "stream",
     "text": [
      "Résultat attendu : [(2, 1), (1, 2), (2, 3), (4, 4), (2, 5)]\n"
     ]
    }
   ],
   "source": [
    "#exo2\n",
    "liste_tuples = [(2, 5), (1, 2), (4, 4), (2, 3), (2, 1)]\n",
    "\n",
    "\n",
    "def cle_tri(tuple):\n",
    "    return tuple[-1]\n",
    "\n",
    "liste_triee = sorted(liste_tuples, key=cle_tri)\n",
    "\n",
    "print(\"Résultat attendu :\", liste_triee)\n"
   ]
  },
  {
   "cell_type": "code",
   "execution_count": 3,
   "id": "2abf100c-ef8e-47fe-9790-1beb0e03974f",
   "metadata": {},
   "outputs": [
    {
     "name": "stdout",
     "output_type": "stream",
     "text": [
      "Résultat attendu : {'c': 300, 'd': 400, 'a': 400, 'b': 400}\n"
     ]
    }
   ],
   "source": [
    "#exo3\n",
    "d1 = {'a': 100, 'b': 200, 'c': 300}\n",
    "d2 = {'a': 300, 'b': 200, 'd': 400}\n",
    "\n",
    "\n",
    "resultat = {}\n",
    "\n",
    "for cle in d1.keys() | d2.keys():\n",
    "    resultat[cle] = d1.get(cle, 0) + d2.get(cle, 0)\n",
    "\n",
    "print(\"Résultat attendu :\", resultat)\n"
   ]
  },
  {
   "cell_type": "code",
   "execution_count": 4,
   "id": "bc4fc46f-4623-4d75-9a6c-9f3647abc81f",
   "metadata": {},
   "outputs": [
    {
     "name": "stdin",
     "output_type": "stream",
     "text": [
      "Entrez un nombre entier :  10\n"
     ]
    },
    {
     "name": "stdout",
     "output_type": "stream",
     "text": [
      "{1: 1, 2: 4, 3: 9, 4: 16, 5: 25, 6: 36, 7: 49, 8: 64, 9: 81, 10: 100}\n"
     ]
    }
   ],
   "source": [
    "#exo4\n",
    "n = int(input(\"Entrez un nombre entier : \"))\n",
    "\n",
    "resultat = {}\n",
    "\n",
    "for i in range(1, n+1):\n",
    "    resultat[i] = i*i\n",
    "\n",
    "print(resultat)\n"
   ]
  },
  {
   "cell_type": "code",
   "execution_count": 5,
   "id": "352df484-156d-4c05-a61b-c424cd3294e4",
   "metadata": {},
   "outputs": [
    {
     "name": "stdout",
     "output_type": "stream",
     "text": [
      "Résultat attendu : [('item3', '24.5'), ('item2', '15.10'), ('item1', '12.20')]\n"
     ]
    }
   ],
   "source": [
    "#exo5\n",
    "liste = [('item1', '12.20'), ('item2', '15.10'), ('item3', '24.5')]\n",
    "\n",
    "def cle_tri(element):\n",
    "    return float(element[1])\n",
    "\n",
    "resultat = sorted(liste, key=cle_tri, reverse=True)  \n",
    "\n",
    "print(\"Résultat attendu :\", resultat)\n"
   ]
  },
  {
   "cell_type": "code",
   "execution_count": 6,
   "id": "86d7de90-1913-49d9-b0d0-749f6abb87f4",
   "metadata": {},
   "outputs": [
    {
     "name": "stdout",
     "output_type": "stream",
     "text": [
      "0\n",
      "1\n",
      "2\n",
      "3\n",
      "4\n",
      "Set initial : {0, 1, 2, 3, 4}\n",
      "Après ajout de 5 : {0, 1, 2, 3, 4, 5}\n",
      "Après suppression de 2 : {0, 1, 3, 4, 5}\n"
     ]
    }
   ],
   "source": [
    "#exo6\n",
    "mon_set = {0, 1, 2, 3, 4}\n",
    "for element in mon_set:\n",
    "    print(element)\n",
    "\n",
    "mon_set = {0, 1, 2, 3, 4}\n",
    "print(\"Set initial :\", mon_set)\n",
    "\n",
    "mon_set.add(5)\n",
    "print(\"Après ajout de 5 :\", mon_set)\n",
    "\n",
    "\n",
    "mon_set.remove(2)\n",
    "print(\"Après suppression de 2 :\", mon_set)\n"
   ]
  },
  {
   "cell_type": "code",
   "execution_count": null,
   "id": "b34963c2-3611-4d84-9b76-54011289adc6",
   "metadata": {},
   "outputs": [],
   "source": []
  }
 ],
 "metadata": {
  "kernelspec": {
   "display_name": "Python 3 (ipykernel)",
   "language": "python",
   "name": "python3"
  },
  "language_info": {
   "codemirror_mode": {
    "name": "ipython",
    "version": 3
   },
   "file_extension": ".py",
   "mimetype": "text/x-python",
   "name": "python",
   "nbconvert_exporter": "python",
   "pygments_lexer": "ipython3",
   "version": "3.11.5"
  }
 },
 "nbformat": 4,
 "nbformat_minor": 5
}
